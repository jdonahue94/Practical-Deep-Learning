{
  "nbformat": 4,
  "nbformat_minor": 0,
  "metadata": {
    "colab": {
      "name": "vactionland.ipynb",
      "provenance": [],
      "authorship_tag": "ABX9TyNpi8R30qKlYbAAoA0zOfR5",
      "include_colab_link": true
    },
    "kernelspec": {
      "name": "python3",
      "display_name": "Python 3"
    },
    "language_info": {
      "name": "python"
    },
    "accelerator": "GPU",
    "widgets": {
      "application/vnd.jupyter.widget-state+json": {
        "db1bcee076324050a87ac41159dc22a4": {
          "model_module": "@jupyter-widgets/controls",
          "model_name": "VBoxModel",
          "model_module_version": "1.5.0",
          "state": {
            "_dom_classes": [],
            "_model_module": "@jupyter-widgets/controls",
            "_model_module_version": "1.5.0",
            "_model_name": "VBoxModel",
            "_view_count": null,
            "_view_module": "@jupyter-widgets/controls",
            "_view_module_version": "1.5.0",
            "_view_name": "VBoxView",
            "box_style": "",
            "children": [
              "IPY_MODEL_0ca73fd887b448af95577c45718bbc38",
              "IPY_MODEL_3d91cb5e1c8949baa483cd8e2cc214d3",
              "IPY_MODEL_39982a795f81497a8cd932093405368c",
              "IPY_MODEL_2509f9b18a5c4af0b33afbf84e304463",
              "IPY_MODEL_921970f5b685420c88dd1e9405b2dc08"
            ],
            "layout": "IPY_MODEL_4107a5a51333434e97d710a6f7ddc308"
          }
        },
        "0ca73fd887b448af95577c45718bbc38": {
          "model_module": "@jupyter-widgets/controls",
          "model_name": "LabelModel",
          "model_module_version": "1.5.0",
          "state": {
            "_dom_classes": [],
            "_model_module": "@jupyter-widgets/controls",
            "_model_module_version": "1.5.0",
            "_model_name": "LabelModel",
            "_view_count": null,
            "_view_module": "@jupyter-widgets/controls",
            "_view_module_version": "1.5.0",
            "_view_name": "LabelView",
            "description": "",
            "description_tooltip": null,
            "layout": "IPY_MODEL_220ada48f75141afa287b0c399ef7aa7",
            "placeholder": "​",
            "style": "IPY_MODEL_64ed2ed05aad49e0bb213e87431f786d",
            "value": "Upload an image of Camden, Kennebunkport, or Rockport."
          }
        },
        "3d91cb5e1c8949baa483cd8e2cc214d3": {
          "model_module": "@jupyter-widgets/controls",
          "model_name": "FileUploadModel",
          "model_module_version": "1.5.0",
          "state": {
            "_counter": 1,
            "_dom_classes": [],
            "_model_module": "@jupyter-widgets/controls",
            "_model_module_version": "1.5.0",
            "_model_name": "FileUploadModel",
            "_view_count": null,
            "_view_module": "@jupyter-widgets/controls",
            "_view_module_version": "1.5.0",
            "_view_name": "FileUploadView",
            "accept": "",
            "button_style": "",
            "data": [
              null
            ],
            "description": "Upload",
            "description_tooltip": null,
            "disabled": false,
            "error": "",
            "icon": "upload",
            "layout": "IPY_MODEL_21b9f940af9044a997511a61884a8e4c",
            "metadata": [
              {
                "name": "bath.jpeg",
                "type": "image/jpeg",
                "size": 13365,
                "lastModified": 1655076247627
              }
            ],
            "multiple": false,
            "style": "IPY_MODEL_0b53887f6de143b7816085e355481a02"
          }
        },
        "39982a795f81497a8cd932093405368c": {
          "model_module": "@jupyter-widgets/controls",
          "model_name": "ButtonModel",
          "model_module_version": "1.5.0",
          "state": {
            "_dom_classes": [],
            "_model_module": "@jupyter-widgets/controls",
            "_model_module_version": "1.5.0",
            "_model_name": "ButtonModel",
            "_view_count": null,
            "_view_module": "@jupyter-widgets/controls",
            "_view_module_version": "1.5.0",
            "_view_name": "ButtonView",
            "button_style": "",
            "description": "Submit",
            "disabled": false,
            "icon": "",
            "layout": "IPY_MODEL_bdcecd772bfd49f0b46a1d65a4db9ad7",
            "style": "IPY_MODEL_9a609fa300234e39ad77932cd61e2e4d",
            "tooltip": ""
          }
        },
        "2509f9b18a5c4af0b33afbf84e304463": {
          "model_module": "@jupyter-widgets/output",
          "model_name": "OutputModel",
          "model_module_version": "1.0.0",
          "state": {
            "_dom_classes": [],
            "_model_module": "@jupyter-widgets/output",
            "_model_module_version": "1.0.0",
            "_model_name": "OutputModel",
            "_view_count": null,
            "_view_module": "@jupyter-widgets/output",
            "_view_module_version": "1.0.0",
            "_view_name": "OutputView",
            "layout": "IPY_MODEL_d6e84950cd4b4ec4a18d8594ad0218a2",
            "msg_id": "",
            "outputs": [
              {
                "output_type": "display_data",
                "data": {
                  "text/plain": "<PIL.Image.Image image mode=RGB size=128x85 at 0x7F34AA5E46D0>",
                  "image/png": "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\n"
                },
                "metadata": {}
              }
            ]
          }
        },
        "921970f5b685420c88dd1e9405b2dc08": {
          "model_module": "@jupyter-widgets/controls",
          "model_name": "LabelModel",
          "model_module_version": "1.5.0",
          "state": {
            "_dom_classes": [],
            "_model_module": "@jupyter-widgets/controls",
            "_model_module_version": "1.5.0",
            "_model_name": "LabelModel",
            "_view_count": null,
            "_view_module": "@jupyter-widgets/controls",
            "_view_module_version": "1.5.0",
            "_view_name": "LabelView",
            "description": "",
            "description_tooltip": null,
            "layout": "IPY_MODEL_2d16e09fca0643feaf8ff2559cad8bc2",
            "placeholder": "​",
            "style": "IPY_MODEL_e3db7e5dfe894158980c53a1df6159e6",
            "value": "Prediction: Kittery; Probability: 0.7709"
          }
        },
        "4107a5a51333434e97d710a6f7ddc308": {
          "model_module": "@jupyter-widgets/base",
          "model_name": "LayoutModel",
          "model_module_version": "1.2.0",
          "state": {
            "_model_module": "@jupyter-widgets/base",
            "_model_module_version": "1.2.0",
            "_model_name": "LayoutModel",
            "_view_count": null,
            "_view_module": "@jupyter-widgets/base",
            "_view_module_version": "1.2.0",
            "_view_name": "LayoutView",
            "align_content": null,
            "align_items": null,
            "align_self": null,
            "border": null,
            "bottom": null,
            "display": null,
            "flex": null,
            "flex_flow": null,
            "grid_area": null,
            "grid_auto_columns": null,
            "grid_auto_flow": null,
            "grid_auto_rows": null,
            "grid_column": null,
            "grid_gap": null,
            "grid_row": null,
            "grid_template_areas": null,
            "grid_template_columns": null,
            "grid_template_rows": null,
            "height": null,
            "justify_content": null,
            "justify_items": null,
            "left": null,
            "margin": null,
            "max_height": null,
            "max_width": null,
            "min_height": null,
            "min_width": null,
            "object_fit": null,
            "object_position": null,
            "order": null,
            "overflow": null,
            "overflow_x": null,
            "overflow_y": null,
            "padding": null,
            "right": null,
            "top": null,
            "visibility": null,
            "width": null
          }
        },
        "220ada48f75141afa287b0c399ef7aa7": {
          "model_module": "@jupyter-widgets/base",
          "model_name": "LayoutModel",
          "model_module_version": "1.2.0",
          "state": {
            "_model_module": "@jupyter-widgets/base",
            "_model_module_version": "1.2.0",
            "_model_name": "LayoutModel",
            "_view_count": null,
            "_view_module": "@jupyter-widgets/base",
            "_view_module_version": "1.2.0",
            "_view_name": "LayoutView",
            "align_content": null,
            "align_items": null,
            "align_self": null,
            "border": null,
            "bottom": null,
            "display": null,
            "flex": null,
            "flex_flow": null,
            "grid_area": null,
            "grid_auto_columns": null,
            "grid_auto_flow": null,
            "grid_auto_rows": null,
            "grid_column": null,
            "grid_gap": null,
            "grid_row": null,
            "grid_template_areas": null,
            "grid_template_columns": null,
            "grid_template_rows": null,
            "height": null,
            "justify_content": null,
            "justify_items": null,
            "left": null,
            "margin": null,
            "max_height": null,
            "max_width": null,
            "min_height": null,
            "min_width": null,
            "object_fit": null,
            "object_position": null,
            "order": null,
            "overflow": null,
            "overflow_x": null,
            "overflow_y": null,
            "padding": null,
            "right": null,
            "top": null,
            "visibility": null,
            "width": null
          }
        },
        "64ed2ed05aad49e0bb213e87431f786d": {
          "model_module": "@jupyter-widgets/controls",
          "model_name": "DescriptionStyleModel",
          "model_module_version": "1.5.0",
          "state": {
            "_model_module": "@jupyter-widgets/controls",
            "_model_module_version": "1.5.0",
            "_model_name": "DescriptionStyleModel",
            "_view_count": null,
            "_view_module": "@jupyter-widgets/base",
            "_view_module_version": "1.2.0",
            "_view_name": "StyleView",
            "description_width": ""
          }
        },
        "21b9f940af9044a997511a61884a8e4c": {
          "model_module": "@jupyter-widgets/base",
          "model_name": "LayoutModel",
          "model_module_version": "1.2.0",
          "state": {
            "_model_module": "@jupyter-widgets/base",
            "_model_module_version": "1.2.0",
            "_model_name": "LayoutModel",
            "_view_count": null,
            "_view_module": "@jupyter-widgets/base",
            "_view_module_version": "1.2.0",
            "_view_name": "LayoutView",
            "align_content": null,
            "align_items": null,
            "align_self": null,
            "border": null,
            "bottom": null,
            "display": null,
            "flex": null,
            "flex_flow": null,
            "grid_area": null,
            "grid_auto_columns": null,
            "grid_auto_flow": null,
            "grid_auto_rows": null,
            "grid_column": null,
            "grid_gap": null,
            "grid_row": null,
            "grid_template_areas": null,
            "grid_template_columns": null,
            "grid_template_rows": null,
            "height": null,
            "justify_content": null,
            "justify_items": null,
            "left": null,
            "margin": null,
            "max_height": null,
            "max_width": null,
            "min_height": null,
            "min_width": null,
            "object_fit": null,
            "object_position": null,
            "order": null,
            "overflow": null,
            "overflow_x": null,
            "overflow_y": null,
            "padding": null,
            "right": null,
            "top": null,
            "visibility": null,
            "width": null
          }
        },
        "0b53887f6de143b7816085e355481a02": {
          "model_module": "@jupyter-widgets/controls",
          "model_name": "ButtonStyleModel",
          "model_module_version": "1.5.0",
          "state": {
            "_model_module": "@jupyter-widgets/controls",
            "_model_module_version": "1.5.0",
            "_model_name": "ButtonStyleModel",
            "_view_count": null,
            "_view_module": "@jupyter-widgets/base",
            "_view_module_version": "1.2.0",
            "_view_name": "StyleView",
            "button_color": null,
            "font_weight": ""
          }
        },
        "bdcecd772bfd49f0b46a1d65a4db9ad7": {
          "model_module": "@jupyter-widgets/base",
          "model_name": "LayoutModel",
          "model_module_version": "1.2.0",
          "state": {
            "_model_module": "@jupyter-widgets/base",
            "_model_module_version": "1.2.0",
            "_model_name": "LayoutModel",
            "_view_count": null,
            "_view_module": "@jupyter-widgets/base",
            "_view_module_version": "1.2.0",
            "_view_name": "LayoutView",
            "align_content": null,
            "align_items": null,
            "align_self": null,
            "border": null,
            "bottom": null,
            "display": null,
            "flex": null,
            "flex_flow": null,
            "grid_area": null,
            "grid_auto_columns": null,
            "grid_auto_flow": null,
            "grid_auto_rows": null,
            "grid_column": null,
            "grid_gap": null,
            "grid_row": null,
            "grid_template_areas": null,
            "grid_template_columns": null,
            "grid_template_rows": null,
            "height": null,
            "justify_content": null,
            "justify_items": null,
            "left": null,
            "margin": null,
            "max_height": null,
            "max_width": null,
            "min_height": null,
            "min_width": null,
            "object_fit": null,
            "object_position": null,
            "order": null,
            "overflow": null,
            "overflow_x": null,
            "overflow_y": null,
            "padding": null,
            "right": null,
            "top": null,
            "visibility": null,
            "width": null
          }
        },
        "9a609fa300234e39ad77932cd61e2e4d": {
          "model_module": "@jupyter-widgets/controls",
          "model_name": "ButtonStyleModel",
          "model_module_version": "1.5.0",
          "state": {
            "_model_module": "@jupyter-widgets/controls",
            "_model_module_version": "1.5.0",
            "_model_name": "ButtonStyleModel",
            "_view_count": null,
            "_view_module": "@jupyter-widgets/base",
            "_view_module_version": "1.2.0",
            "_view_name": "StyleView",
            "button_color": null,
            "font_weight": ""
          }
        },
        "2d16e09fca0643feaf8ff2559cad8bc2": {
          "model_module": "@jupyter-widgets/base",
          "model_name": "LayoutModel",
          "model_module_version": "1.2.0",
          "state": {
            "_model_module": "@jupyter-widgets/base",
            "_model_module_version": "1.2.0",
            "_model_name": "LayoutModel",
            "_view_count": null,
            "_view_module": "@jupyter-widgets/base",
            "_view_module_version": "1.2.0",
            "_view_name": "LayoutView",
            "align_content": null,
            "align_items": null,
            "align_self": null,
            "border": null,
            "bottom": null,
            "display": null,
            "flex": null,
            "flex_flow": null,
            "grid_area": null,
            "grid_auto_columns": null,
            "grid_auto_flow": null,
            "grid_auto_rows": null,
            "grid_column": null,
            "grid_gap": null,
            "grid_row": null,
            "grid_template_areas": null,
            "grid_template_columns": null,
            "grid_template_rows": null,
            "height": null,
            "justify_content": null,
            "justify_items": null,
            "left": null,
            "margin": null,
            "max_height": null,
            "max_width": null,
            "min_height": null,
            "min_width": null,
            "object_fit": null,
            "object_position": null,
            "order": null,
            "overflow": null,
            "overflow_x": null,
            "overflow_y": null,
            "padding": null,
            "right": null,
            "top": null,
            "visibility": null,
            "width": null
          }
        },
        "e3db7e5dfe894158980c53a1df6159e6": {
          "model_module": "@jupyter-widgets/controls",
          "model_name": "DescriptionStyleModel",
          "model_module_version": "1.5.0",
          "state": {
            "_model_module": "@jupyter-widgets/controls",
            "_model_module_version": "1.5.0",
            "_model_name": "DescriptionStyleModel",
            "_view_count": null,
            "_view_module": "@jupyter-widgets/base",
            "_view_module_version": "1.2.0",
            "_view_name": "StyleView",
            "description_width": ""
          }
        },
        "d6e84950cd4b4ec4a18d8594ad0218a2": {
          "model_module": "@jupyter-widgets/base",
          "model_name": "LayoutModel",
          "model_module_version": "1.2.0",
          "state": {
            "_model_module": "@jupyter-widgets/base",
            "_model_module_version": "1.2.0",
            "_model_name": "LayoutModel",
            "_view_count": null,
            "_view_module": "@jupyter-widgets/base",
            "_view_module_version": "1.2.0",
            "_view_name": "LayoutView",
            "align_content": null,
            "align_items": null,
            "align_self": null,
            "border": null,
            "bottom": null,
            "display": null,
            "flex": null,
            "flex_flow": null,
            "grid_area": null,
            "grid_auto_columns": null,
            "grid_auto_flow": null,
            "grid_auto_rows": null,
            "grid_column": null,
            "grid_gap": null,
            "grid_row": null,
            "grid_template_areas": null,
            "grid_template_columns": null,
            "grid_template_rows": null,
            "height": null,
            "justify_content": null,
            "justify_items": null,
            "left": null,
            "margin": null,
            "max_height": null,
            "max_width": null,
            "min_height": null,
            "min_width": null,
            "object_fit": null,
            "object_position": null,
            "order": null,
            "overflow": null,
            "overflow_x": null,
            "overflow_y": null,
            "padding": null,
            "right": null,
            "top": null,
            "visibility": null,
            "width": null
          }
        }
      }
    }
  },
  "cells": [
    {
      "cell_type": "markdown",
      "metadata": {
        "id": "view-in-github",
        "colab_type": "text"
      },
      "source": [
        "<a href=\"https://colab.research.google.com/github/jdonahue94/Practical-Deep-Learning/blob/main/vactionland.ipynb\" target=\"_parent\"><img src=\"https://colab.research.google.com/assets/colab-badge.svg\" alt=\"Open In Colab\"/></a>"
      ]
    },
    {
      "cell_type": "markdown",
      "source": [
        "## imports\n",
        "Still trying to figure out why I have to run these each time."
      ],
      "metadata": {
        "id": "Hj4u9uf8rFIU"
      }
    },
    {
      "cell_type": "code",
      "execution_count": null,
      "metadata": {
        "id": "XSnfrWgmqr4D"
      },
      "outputs": [],
      "source": [
        "# fastai dependencies\n",
        "!pip install azure-cognitiveservices-search-imagesearch\n",
        "! [ -e /content ] && pip install -Uqq fastbook"
      ]
    },
    {
      "cell_type": "code",
      "source": [
        "# viola\n",
        "!pip install voila\n",
        "!jupyter serverextension enable --sys-prefix voila"
      ],
      "metadata": {
        "id": "okVSGFjKNHoz"
      },
      "execution_count": null,
      "outputs": []
    },
    {
      "cell_type": "code",
      "source": [
        "# fastai imports\n",
        "import fastbook\n",
        "fastbook.setup_book()\n",
        "from fastbook import *\n",
        "from fastai.vision.all import *\n",
        "from fastai.vision.widgets import *"
      ],
      "metadata": {
        "id": "REZYhZGXrEHf"
      },
      "execution_count": 3,
      "outputs": []
    },
    {
      "cell_type": "markdown",
      "source": [
        "# Vactionland\n",
        "Submit a photo of your favorite coastal Maine town to test this neural networks accuracy."
      ],
      "metadata": {
        "id": "rVymxpp4N-nz"
      }
    },
    {
      "cell_type": "code",
      "source": [
        "# importing our learner\n",
        "path = Path('/content/gdrive/MyDrive/data_science/practical_deep_learning')\n",
        "learn_inf = load_learner(path/'vactionland.pkl', cpu=True)"
      ],
      "metadata": {
        "id": "LwnimIgqN9jo"
      },
      "execution_count": 13,
      "outputs": []
    },
    {
      "cell_type": "code",
      "source": [
        "# Creating our widgets\n",
        "upload = widgets.FileUpload()\n",
        "placeholder = widgets.Output()\n",
        "label = widgets.Label()\n",
        "submit = widgets.Button(description='Submit')"
      ],
      "metadata": {
        "id": "Y6jukDgFNaDx"
      },
      "execution_count": 14,
      "outputs": []
    },
    {
      "cell_type": "code",
      "source": [
        "def on_click_classify(change):\n",
        "    img = PILImage.create(upload.data[-1])\n",
        "    placeholder.clear_output()\n",
        "    with placeholder:\n",
        "      display(img.to_thumb(128,128))\n",
        "    pred, pred_idx,probs = learn_inf.predict(img)\n",
        "    label.value = f'Prediction: {pred}; Probability: {probs[pred_idx]:.04f}'\n",
        "\n",
        "submit.on_click(on_click_classify)"
      ],
      "metadata": {
        "id": "gYhuXpkTN5qi"
      },
      "execution_count": 15,
      "outputs": []
    },
    {
      "cell_type": "code",
      "source": [
        "VBox([widgets.Label('Upload an image of Camden, Kennebunkport, or Rockport.'), upload, submit, placeholder, label])"
      ],
      "metadata": {
        "colab": {
          "base_uri": "https://localhost:8080/",
          "height": 230,
          "referenced_widgets": [
            "db1bcee076324050a87ac41159dc22a4",
            "0ca73fd887b448af95577c45718bbc38",
            "3d91cb5e1c8949baa483cd8e2cc214d3",
            "39982a795f81497a8cd932093405368c",
            "2509f9b18a5c4af0b33afbf84e304463",
            "921970f5b685420c88dd1e9405b2dc08",
            "4107a5a51333434e97d710a6f7ddc308",
            "220ada48f75141afa287b0c399ef7aa7",
            "64ed2ed05aad49e0bb213e87431f786d",
            "21b9f940af9044a997511a61884a8e4c",
            "0b53887f6de143b7816085e355481a02",
            "bdcecd772bfd49f0b46a1d65a4db9ad7",
            "9a609fa300234e39ad77932cd61e2e4d",
            "2d16e09fca0643feaf8ff2559cad8bc2",
            "e3db7e5dfe894158980c53a1df6159e6",
            "d6e84950cd4b4ec4a18d8594ad0218a2"
          ]
        },
        "id": "r0vgJECPOP1f",
        "outputId": "27f0fd5b-5401-49a5-cdcb-825bedd8e432"
      },
      "execution_count": 16,
      "outputs": [
        {
          "output_type": "display_data",
          "data": {
            "text/plain": [
              "VBox(children=(Label(value='Upload an image of Camden, Kennebunkport, or Rockport.'), FileUpload(value={}, des…"
            ],
            "application/vnd.jupyter.widget-view+json": {
              "version_major": 2,
              "version_minor": 0,
              "model_id": "db1bcee076324050a87ac41159dc22a4"
            }
          },
          "metadata": {}
        },
        {
          "output_type": "display_data",
          "data": {
            "text/plain": [
              "<IPython.core.display.HTML object>"
            ],
            "text/html": [
              "\n",
              "<style>\n",
              "    /* Turns off some styling */\n",
              "    progress {\n",
              "        /* gets rid of default border in Firefox and Opera. */\n",
              "        border: none;\n",
              "        /* Needs to be in here for Safari polyfill so background images work as expected. */\n",
              "        background-size: auto;\n",
              "    }\n",
              "    .progress-bar-interrupted, .progress-bar-interrupted::-webkit-progress-bar {\n",
              "        background: #F44336;\n",
              "    }\n",
              "</style>\n"
            ]
          },
          "metadata": {}
        },
        {
          "output_type": "display_data",
          "data": {
            "text/plain": [
              "<IPython.core.display.HTML object>"
            ],
            "text/html": [
              ""
            ]
          },
          "metadata": {}
        }
      ]
    },
    {
      "cell_type": "code",
      "source": [
        ""
      ],
      "metadata": {
        "id": "XP9GsL1NOb-n"
      },
      "execution_count": null,
      "outputs": []
    }
  ]
}
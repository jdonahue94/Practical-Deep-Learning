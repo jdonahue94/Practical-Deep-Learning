{
 "cells": [
  {
   "cell_type": "code",
   "execution_count": null,
   "id": "8fad0602",
   "metadata": {},
   "outputs": [],
   "source": [
    "# imports and installations"
   ]
  },
  {
   "cell_type": "code",
   "execution_count": null,
   "id": "4c5a71cd",
   "metadata": {},
   "outputs": [],
   "source": [
    "# fastai dependencies\n",
    "#!pip install azure-cognitiveservices-search-imagesearch;\n",
    "#! [ -e /content ] && pip install -Uqq fastbook;"
   ]
  },
  {
   "cell_type": "code",
   "execution_count": null,
   "id": "977ee273",
   "metadata": {
    "scrolled": true
   },
   "outputs": [],
   "source": [
    "# viola\n",
    "#!pip install voila\n",
    "#!jupyter serverextension enable --sys-prefix voila"
   ]
  },
  {
   "cell_type": "code",
   "execution_count": 1,
   "id": "c9959c29",
   "metadata": {},
   "outputs": [],
   "source": [
    "# fastai imports\n",
    "import fastbook\n",
    "fastbook.setup_book()\n",
    "from fastbook import *\n",
    "from fastai.vision.all import *\n",
    "from fastai.vision.widgets import *"
   ]
  },
  {
   "cell_type": "code",
   "execution_count": 3,
   "id": "0f59d5c0",
   "metadata": {},
   "outputs": [],
   "source": [
    "# importing our trained model\n",
    "path = Path()\n",
    "learn_inf = load_learner(path/'vactionland.pkl', cpu=True)"
   ]
  },
  {
   "cell_type": "code",
   "execution_count": 4,
   "id": "4f24fc12",
   "metadata": {},
   "outputs": [],
   "source": [
    "# creating widgets\n",
    "upload = widgets.FileUpload()\n",
    "placeholder = widgets.Output()\n",
    "label = widgets.Label()\n",
    "submit = widgets.Button(description='Submit')"
   ]
  },
  {
   "cell_type": "code",
   "execution_count": 5,
   "id": "43a050dd",
   "metadata": {},
   "outputs": [],
   "source": [
    "def on_click_classify(change):\n",
    "    img = PILImage.create(upload.data[-1])\n",
    "    placeholder.clear_output()\n",
    "    with placeholder:\n",
    "      display(img.to_thumb(128,128))\n",
    "    pred, pred_idx,probs = learn_inf.predict(img)\n",
    "    label.value = f'Prediction: {pred}; Probability: {probs[pred_idx]:.04f}'\n",
    "\n",
    "submit.on_click(on_click_classify)"
   ]
  },
  {
   "cell_type": "code",
   "execution_count": 6,
   "id": "7fd4810a",
   "metadata": {},
   "outputs": [
    {
     "data": {
      "application/vnd.jupyter.widget-view+json": {
       "model_id": "11c749bc0d774dcfaafb40a1e4c87982",
       "version_major": 2,
       "version_minor": 0
      },
      "text/plain": [
       "VBox(children=(Label(value='Upload an image of Camden, Kennebunkport, or Rockport.'), FileUpload(value={}, des…"
      ]
     },
     "metadata": {},
     "output_type": "display_data"
    },
    {
     "data": {
      "text/html": [
       "\n",
       "<style>\n",
       "    /* Turns off some styling */\n",
       "    progress {\n",
       "        /* gets rid of default border in Firefox and Opera. */\n",
       "        border: none;\n",
       "        /* Needs to be in here for Safari polyfill so background images work as expected. */\n",
       "        background-size: auto;\n",
       "    }\n",
       "    .progress-bar-interrupted, .progress-bar-interrupted::-webkit-progress-bar {\n",
       "        background: #F44336;\n",
       "    }\n",
       "</style>\n"
      ],
      "text/plain": [
       "<IPython.core.display.HTML object>"
      ]
     },
     "metadata": {},
     "output_type": "display_data"
    },
    {
     "data": {
      "text/html": [],
      "text/plain": [
       "<IPython.core.display.HTML object>"
      ]
     },
     "metadata": {},
     "output_type": "display_data"
    }
   ],
   "source": [
    "header = 'Upload an image of Camden, Kennebunkport, or Rockport.'\n",
    "display(VBox([widgets.Label(header), upload, submit, placeholder, label]))"
   ]
  },
  {
   "cell_type": "code",
   "execution_count": null,
   "id": "59134754",
   "metadata": {},
   "outputs": [],
   "source": []
  }
 ],
 "metadata": {
  "kernelspec": {
   "display_name": "Python 3 (ipykernel)",
   "language": "python",
   "name": "python3"
  },
  "language_info": {
   "codemirror_mode": {
    "name": "ipython",
    "version": 3
   },
   "file_extension": ".py",
   "mimetype": "text/x-python",
   "name": "python",
   "nbconvert_exporter": "python",
   "pygments_lexer": "ipython3",
   "version": "3.7.12"
  }
 },
 "nbformat": 4,
 "nbformat_minor": 5
}

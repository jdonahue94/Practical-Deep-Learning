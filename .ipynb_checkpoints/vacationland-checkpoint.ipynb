{
 "cells": [
  {
   "cell_type": "code",
   "execution_count": 1,
   "id": "c9959c29",
   "metadata": {},
   "outputs": [],
   "source": [
    "# fastai imports\n",
    "from fastai.vision.all import *\n",
    "from fastai.vision.widgets import *"
   ]
  },
  {
   "cell_type": "code",
   "execution_count": 2,
   "id": "0f59d5c0",
   "metadata": {},
   "outputs": [],
   "source": [
    "# importing our trained model\n",
    "path = Path()\n",
    "learn_inf = load_learner(path/'vacationland.pkl', cpu=True)"
   ]
  },
  {
   "cell_type": "code",
   "execution_count": 3,
   "id": "4f24fc12",
   "metadata": {},
   "outputs": [],
   "source": [
    "# creating widgets\n",
    "upload = widgets.FileUpload()\n",
    "placeholder = widgets.Output()\n",
    "label = widgets.Label()\n",
    "submit = widgets.Button(description='Submit')"
   ]
  },
  {
   "cell_type": "code",
   "execution_count": 4,
   "id": "43a050dd",
   "metadata": {},
   "outputs": [],
   "source": [
    "def on_click_classify(change):\n",
    "    img = PILImage.create(upload.data[-1])\n",
    "    placeholder.clear_output()\n",
    "    with placeholder:\n",
    "      display(img.to_thumb(128,128))\n",
    "    pred, pred_idx,probs = learn_inf.predict(img)\n",
    "    label.value = f'Prediction: {pred}; Probability: {probs[pred_idx]:.04f}'\n",
    "\n",
    "submit.on_click(on_click_classify)"
   ]
  },
  {
   "cell_type": "code",
   "execution_count": 5,
   "id": "7fd4810a",
   "metadata": {},
   "outputs": [
    {
     "data": {
      "application/vnd.jupyter.widget-view+json": {
       "model_id": "b510790475764044847849e8f9e087b1",
       "version_major": 2,
       "version_minor": 0
      },
      "text/plain": [
       "VBox(children=(Label(value='Upload an image of Camden, Kennebunkport, or Rockport.'), FileUpload(value={}, des…"
      ]
     },
     "metadata": {},
     "output_type": "display_data"
    }
   ],
   "source": [
    "header = 'Upload an image of Camden, Kennebunkport, or Rockport.'\n",
    "display(VBox([widgets.Label(header), upload, submit, placeholder, label]))"
   ]
  },
  {
   "cell_type": "code",
   "execution_count": null,
   "id": "1c78303b",
   "metadata": {},
   "outputs": [],
   "source": []
  }
 ],
 "metadata": {
  "kernelspec": {
   "display_name": "Python 3 (ipykernel)",
   "language": "python",
   "name": "python3"
  },
  "language_info": {
   "codemirror_mode": {
    "name": "ipython",
    "version": 3
   },
   "file_extension": ".py",
   "mimetype": "text/x-python",
   "name": "python",
   "nbconvert_exporter": "python",
   "pygments_lexer": "ipython3",
   "version": "3.7.12"
  }
 },
 "nbformat": 4,
 "nbformat_minor": 5
}
